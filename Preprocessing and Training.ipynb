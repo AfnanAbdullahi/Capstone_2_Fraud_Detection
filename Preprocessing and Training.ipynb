{
 "cells": [
  {
   "cell_type": "code",
   "execution_count": 1,
   "id": "50cb1af0-4336-49b6-8960-b46f85e27673",
   "metadata": {},
   "outputs": [],
   "source": [
    "import pandas as pd\n",
    "from sklearn.model_selection import train_test_split\n",
    "from sklearn.preprocessing import StandardScaler, OneHotEncoder\n",
    "from sklearn.compose import ColumnTransformer\n",
    "import numpy as np\n",
    "from sklearn.linear_model import LogisticRegression\n",
    "from sklearn.ensemble import RandomForestClassifier, GradientBoostingClassifier\n",
    "from xgboost import XGBClassifier\n",
    "from sklearn.metrics import classification_report, confusion_matrix"
   ]
  },
  {
   "cell_type": "code",
   "execution_count": 2,
   "id": "1318a470-f40c-49d3-ad28-0a0be52417fd",
   "metadata": {},
   "outputs": [],
   "source": [
    "# Load dataset\n",
    "data_path = 'credit_card_fraud.csv'\n",
    "df = pd.read_csv(data_path)"
   ]
  },
  {
   "cell_type": "code",
   "execution_count": 3,
   "id": "2d82fed7-1863-4348-9b9a-16f671b945cf",
   "metadata": {},
   "outputs": [
    {
     "name": "stdout",
     "output_type": "stream",
     "text": [
      "is_fraud\n",
      "0    0.994753\n",
      "1    0.005247\n",
      "Name: proportion, dtype: float64\n"
     ]
    }
   ],
   "source": [
    "# Calculate the proportion of fraud cases to the total\n",
    "fraud_proportion = df['is_fraud'].value_counts(normalize=True)\n",
    "\n",
    "print(fraud_proportion)"
   ]
  },
  {
   "cell_type": "markdown",
   "id": "a511ced3-3db5-4df9-b38a-d0d7f4a6cfa6",
   "metadata": {},
   "source": [
    "<h1> Preprocessing </h1>"
   ]
  },
  {
   "cell_type": "code",
   "execution_count": 4,
   "id": "e8ce50b8-8dca-4a63-b858-f0f460059d6a",
   "metadata": {},
   "outputs": [],
   "source": [
    "# Extracting datetime features and cardholder's age\n",
    "df['trans_date_trans_time'] = pd.to_datetime(df['trans_date_trans_time'])\n",
    "df['dob'] = pd.to_datetime(df['dob'])\n",
    "df['transaction_hour'] = df['trans_date_trans_time'].dt.hour\n",
    "df['age'] = np.round((df['trans_date_trans_time'] - df['dob']).dt.days / 365.25, 0)"
   ]
  },
  {
   "cell_type": "code",
   "execution_count": 5,
   "id": "bcfe06b1-9bf7-4108-a05d-f1ee1f906ff5",
   "metadata": {},
   "outputs": [],
   "source": [
    "# Identifying categorical and numeric columns\n",
    "categorical_cols = ['merchant', 'category', 'city', 'state', 'job']\n",
    "numeric_cols = ['amt', 'lat', 'long', 'city_pop', 'merch_lat', 'merch_long', 'transaction_hour', 'age']"
   ]
  },
  {
   "cell_type": "code",
   "execution_count": 8,
   "id": "f3602d7e-c3f1-4eef-ae7c-5139e41514a1",
   "metadata": {},
   "outputs": [],
   "source": [
    "# Defining transformers for the preprocessing pipeline\n",
    "categorical_transformer = OneHotEncoder(handle_unknown='ignore')\n",
    "numeric_transformer = StandardScaler()\n",
    "\n",
    "# Combining transformers into a ColumnTransformer\n",
    "preprocessor = ColumnTransformer(\n",
    "    transformers=[\n",
    "        ('num', numeric_transformer, numeric_cols),\n",
    "        ('cat', categorical_transformer, categorical_cols)\n",
    "    ])\n",
    "\n",
    "# Defining the feature set X and the target variable y\n",
    "X = df.drop('is_fraud', axis=1)  # Features\n",
    "y = df['is_fraud']  # Target"
   ]
  },
  {
   "cell_type": "code",
   "execution_count": 9,
   "id": "7683ec9e-5239-4ad3-a636-05aa8d5c58f0",
   "metadata": {},
   "outputs": [],
   "source": [
    "# Splitting the dataset into training and testing sets with stratification\n",
    "X_train, X_test, y_train, y_test = train_test_split(X, y, test_size=0.2, random_state=42, stratify=y)\n",
    "\n",
    "# Applying the ColumnTransformer to the training data\n",
    "X_train_preprocessed = preprocessor.fit_transform(X_train)\n",
    "X_test_preprocessed = preprocessor.transform(X_test) "
   ]
  },
  {
   "cell_type": "markdown",
   "id": "0b2275c4-07d0-4119-9cf1-f4c926232f80",
   "metadata": {},
   "source": [
    "<h1> Training the model </h1>"
   ]
  },
  {
   "cell_type": "code",
   "execution_count": 10,
   "id": "b37fabe4-d73c-4301-9680-c5be9ada1d50",
   "metadata": {},
   "outputs": [
    {
     "name": "stdout",
     "output_type": "stream",
     "text": [
      "Model: Logistic Regression\n",
      "              precision    recall  f1-score   support\n",
      "\n",
      "           0       1.00      1.00      1.00     67566\n",
      "           1       0.80      0.13      0.23       356\n",
      "\n",
      "    accuracy                           1.00     67922\n",
      "   macro avg       0.90      0.57      0.61     67922\n",
      "weighted avg       0.99      1.00      0.99     67922\n",
      "\n",
      "[[67554    12]\n",
      " [  308    48]]\n",
      "-----------------------------------------------------\n",
      "Model: Random Forest\n",
      "              precision    recall  f1-score   support\n",
      "\n",
      "           0       1.00      1.00      1.00     67566\n",
      "           1       0.99      0.54      0.70       356\n",
      "\n",
      "    accuracy                           1.00     67922\n",
      "   macro avg       1.00      0.77      0.85     67922\n",
      "weighted avg       1.00      1.00      1.00     67922\n",
      "\n",
      "[[67565     1]\n",
      " [  163   193]]\n",
      "-----------------------------------------------------\n",
      "Model: Gradient Boosting\n",
      "              precision    recall  f1-score   support\n",
      "\n",
      "           0       1.00      1.00      1.00     67566\n",
      "           1       0.81      0.72      0.76       356\n",
      "\n",
      "    accuracy                           1.00     67922\n",
      "   macro avg       0.90      0.86      0.88     67922\n",
      "weighted avg       1.00      1.00      1.00     67922\n",
      "\n",
      "[[67505    61]\n",
      " [   98   258]]\n",
      "-----------------------------------------------------\n",
      "Model: XGBoost\n",
      "              precision    recall  f1-score   support\n",
      "\n",
      "           0       1.00      1.00      1.00     67566\n",
      "           1       0.96      0.76      0.85       356\n",
      "\n",
      "    accuracy                           1.00     67922\n",
      "   macro avg       0.98      0.88      0.92     67922\n",
      "weighted avg       1.00      1.00      1.00     67922\n",
      "\n",
      "[[67555    11]\n",
      " [   85   271]]\n",
      "-----------------------------------------------------\n"
     ]
    }
   ],
   "source": [
    "# Initialize the models\n",
    "models = {\n",
    "    \"Logistic Regression\": LogisticRegression(max_iter=1000, random_state=42),\n",
    "    \"Random Forest\": RandomForestClassifier(random_state=42),\n",
    "    \"Gradient Boosting\": GradientBoostingClassifier(random_state=42),\n",
    "    \"XGBoost\": XGBClassifier(use_label_encoder=False, eval_metric='logloss', random_state=42)\n",
    "}\n",
    "\n",
    "# Dictionary to hold model predictions\n",
    "predictions = {}\n",
    "\n",
    "# Loop through models, train, and predict\n",
    "for name, model in models.items():\n",
    "    # Train the model on preprocessed training data\n",
    "    model.fit(X_train_preprocessed, y_train)\n",
    "    \n",
    "    # Transform the test set and make predictions\n",
    "    y_pred = model.predict(X_test_preprocessed)  # Make sure this uses preprocessed not resampled data\n",
    "    \n",
    "    # Store predictions\n",
    "    predictions[name] = y_pred\n",
    "    \n",
    "    # Print model performance\n",
    "    print(f\"Model: {name}\")\n",
    "    print(classification_report(y_test, y_pred))\n",
    "    print(confusion_matrix(y_test, y_pred))\n",
    "    print(\"-----------------------------------------------------\")\n",
    "    "
   ]
  },
  {
   "cell_type": "markdown",
   "id": "ee159108-8e4f-4ee8-b91d-5d358d26cf8d",
   "metadata": {},
   "source": [
    "<h2> Summary and Review: </h2>\n",
    "\n",
    "1. Logistic Regression:\n",
    "\n",
    "-  Precision for the fraudulent class is relatively high at 0.80, indicating fewer false positives.\n",
    "- Recall is low at 0.13, suggesting the model misses many fraudulent transactions.\n",
    "- The F1-score for the fraudulent class is low at 0.23, reflecting the imbalance between precision and recall.\n",
    "- Overall accuracy is 1.00, but this is not informative due to class imbalance.\n",
    "\n",
    "2. Random Forest:\n",
    "\n",
    "- Precision remains high for the fraudulent class at 0.99, indicating very few legitimate transactions are mislabeled as fraudulent.\n",
    "- Recall improves to 0.54, showing that more than half of the fraudulent transactions are detected.\n",
    "- The F1-score for the fraudulent class increases to 0.70, suggesting a better balance between precision and recall compared to Logistic Regression.\n",
    "- Overall accuracy is perfect at 1.00, though it should be viewed with skepticism due to the imbalanced nature of the dataset.\n",
    "\n",
    "3. Gradient Boosting:\n",
    "\n",
    "- Precision for the fraudulent class is very high at 0.81, similar to Random Forest.\n",
    "- Recall is also high at 0.72, indicating the model is quite effective at detecting fraudulent transactions.\n",
    "- The F1-score for the fraudulent class is strong at 0.76, showing a good balance between precision and recall.\n",
    "- verall accuracy is 1.00, as seen with the other models.\n",
    "\n",
    "4. XGBoost:\n",
    "\n",
    "- Precision for the fraudulent class is slightly lower than Gradient Boosting at 0.96, but still indicates low false positives.\n",
    "- Recall is also slightly lower at 0.76, which means it detects a majority of fraudulent transactions.\n",
    "- The F1-score for the fraudulent class is high at 0.85, which is among the best of the models shown.\n",
    "- Overall accuracy is again perfect at 1.00, consistent with the other models.\n",
    "\n",
    "<h2> Overall Summary:</h2>\n",
    "\n",
    "-  XGBoost and Gradient Boosting show the strongest performance in terms of F1-score for detecting the fraudulent class, with XGBoost slightly leading. These models demonstrate a strong ability to detect fraud with a balanced approach between minimizing false positives and maximizing true positives.\n",
    "\n",
    "- Random Forest, while having an excellent F1-score, doesn't perform as well as XGBoost and Gradient Boosting in terms of recall, which is critical in fraud detection.\n",
    "\n",
    "- Logistic Regression, despite having a high precision, falls behind in recall and F1-score, making it less effective for this task compared to the ensemble methods.\n",
    "\n",
    "- Given these results, XGBoost stands out as the best model for further tuning and operational use. The high F1-score indicates that it effectively balances precision and recall, making it a robust choice for fraud detection. However, considering the business impact of false positives and false negatives is also crucial for the final model selection and threshold tuning."
   ]
  }
 ],
 "metadata": {
  "kernelspec": {
   "display_name": "Python 3 (ipykernel)",
   "language": "python",
   "name": "python3"
  },
  "language_info": {
   "codemirror_mode": {
    "name": "ipython",
    "version": 3
   },
   "file_extension": ".py",
   "mimetype": "text/x-python",
   "name": "python",
   "nbconvert_exporter": "python",
   "pygments_lexer": "ipython3",
   "version": "3.12.1"
  }
 },
 "nbformat": 4,
 "nbformat_minor": 5
}
